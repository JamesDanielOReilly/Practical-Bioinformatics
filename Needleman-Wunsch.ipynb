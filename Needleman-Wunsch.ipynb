{
 "cells": [
  {
   "cell_type": "markdown",
   "metadata": {},
   "source": [
    "The Needleman-Wunsch algorithm is an algorithm used in bioinformatics to align protein or nucleotide sequences. \n",
    "\n",
    "The algorithm uses dynamic programming. The algorithm effectively divides a large problem (e.g. the full sequence) into a series of smaller problems, and uses the solutions to these smaller problems to find an optimal solution to the larger problem.\n",
    "\n",
    "This algorithm is still widely used for optimal global alignment, particularly when the quality of the alignment is of utmost importance. The algorithm assigns a score to every possible alignment, and the purpose of the algorithm is to find all possible alignments having the highest score."
   ]
  },
  {
   "cell_type": "markdown",
   "metadata": {},
   "source": [
    "The algorithm can be used for any two strings. The first step is to construct a grid. The first sequence along the top and the second sequence down the side."
   ]
  },
  {
   "cell_type": "code",
   "execution_count": 1,
   "metadata": {},
   "outputs": [],
   "source": [
    "import numpy as np"
   ]
  },
  {
   "cell_type": "code",
   "execution_count": 17,
   "metadata": {},
   "outputs": [],
   "source": [
    "def diagonal(n1, n2, pt):\n",
    "    if (n1 == n2):\n",
    "        return pt['MATCH']\n",
    "    else:\n",
    "        return pt['MISMATCH']"
   ]
  },
  {
   "cell_type": "code",
   "execution_count": 18,
   "metadata": {},
   "outputs": [],
   "source": [
    "def pointers(di, ho, ve):\n",
    "    pointer = max(di, ho, ve)\n",
    "    \n",
    "    if (di == pointer):\n",
    "        return 'D'\n",
    "    elif(ho == pointer):\n",
    "        return 'H'\n",
    "    elif (ve == pointer):\n",
    "        return 'V'"
   ]
  },
  {
   "cell_type": "code",
   "execution_count": 35,
   "metadata": {},
   "outputs": [],
   "source": [
    "def nw_simple(s1, s2, match, mismatch, gap) :\n",
    "    penalty = {'MATCH': match, 'MISMATCH': mismatch, 'GAP': gap} # Dictionary for penalty values\n",
    "    \n",
    "    n = len(s1) + 1\n",
    "    m = len(s2) + 1\n",
    "    \n",
    "    f_matrix = np.zeros((m,n), dtype = int) # Initialises an empty alignment matrix\n",
    "    p_matrix = np.zeros((m,n), dtype = str) # Initialises an empty pointer matrix for backtracking\n",
    "    \n",
    "    # Fill first row and column of matrix with gap penalty\n",
    "    for i in range(m):\n",
    "        f_matrix[i][0] = penalty['GAP'] * i\n",
    "        p_matrix[i][0] = 'V'\n",
    "        \n",
    "    for j in range(n):\n",
    "        f_matrix[0][j] = penalty['GAP'] * j\n",
    "        p_matrix[0][j] = 'H'\n",
    "        \n",
    "    # Fill the matrix\n",
    "    p_matrix[0][0] = 0\n",
    "    for i in range(1,m):\n",
    "        for j in range(1,n):\n",
    "            di = f_matrix[i-1][j-1] + diagonal(s1[j-1], s2[i-1], penalty)\n",
    "            ho = f_matrix[i-1][j] + penalty['GAP']\n",
    "            ve = f_matrix[i][j-1] + penalty['GAP']\n",
    "            f_matrix[i][j] = max(di, ho, ve)\n",
    "            p_matrix[i][j] = pointers(di, ho, ve)\n",
    "    \n",
    "    score = f_matrix[-1][-1]\n",
    "    \n",
    "    print(\"Alignment Score: {0}\".format(score))\n",
    "    print(\"\\n\" + \"Alignment Matrix:\")\n",
    "    print(f_matrix)\n",
    "    print(\"\\n\" + \"Pointer Matrix:\")\n",
    "    print(p_matrix)"
   ]
  },
  {
   "cell_type": "code",
   "execution_count": 36,
   "metadata": {},
   "outputs": [
    {
     "name": "stdout",
     "output_type": "stream",
     "text": [
      "Alignment Score: 2\n",
      "\n",
      "Alignment Matrix:\n",
      "[[  0  -2  -4  -6  -8 -10]\n",
      " [ -2   1  -1  -3  -5  -7]\n",
      " [ -4  -1   0   0  -2  -4]\n",
      " [ -6  -3  -2   1   1  -1]\n",
      " [ -8  -5  -4  -1   0   2]]\n",
      "\n",
      "Pointer Matrix:\n",
      "[['0' 'H' 'H' 'H' 'H' 'H']\n",
      " ['V' 'D' 'V' 'V' 'V' 'V']\n",
      " ['V' 'H' 'D' 'D' 'D' 'V']\n",
      " ['V' 'H' 'D' 'D' 'D' 'V']\n",
      " ['V' 'H' 'D' 'H' 'D' 'D']]\n"
     ]
    }
   ],
   "source": [
    "sequence1 = 'TGCCA'\n",
    "sequence2 = 'TCCA'\n",
    "\n",
    "nw_simple(sequence1, sequence2, 1, -1, -2)"
   ]
  },
  {
   "cell_type": "markdown",
   "metadata": {},
   "source": [
    "Running Needleman-Wunsch using a similarity matrix for comparing sequences of amino acids. I will be using the BLOSUM62 similarity matrix."
   ]
  },
  {
   "cell_type": "code",
   "execution_count": 39,
   "metadata": {},
   "outputs": [],
   "source": [
    "# import biotite.sequence as seq\n",
    "# import biotite.sequence.align as align"
   ]
  },
  {
   "cell_type": "code",
   "execution_count": null,
   "metadata": {},
   "outputs": [],
   "source": []
  }
 ],
 "metadata": {
  "kernelspec": {
   "display_name": "Python 3",
   "language": "python",
   "name": "python3"
  },
  "language_info": {
   "codemirror_mode": {
    "name": "ipython",
    "version": 3
   },
   "file_extension": ".py",
   "mimetype": "text/x-python",
   "name": "python",
   "nbconvert_exporter": "python",
   "pygments_lexer": "ipython3",
   "version": "3.7.3"
  }
 },
 "nbformat": 4,
 "nbformat_minor": 2
}
