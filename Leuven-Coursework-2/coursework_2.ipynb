{
 "cells": [
  {
   "cell_type": "code",
   "execution_count": 1,
   "metadata": {
    "collapsed": true
   },
   "outputs": [],
   "source": [
    "import re\n",
    "import numpy as np\n",
    "import matplotlib as plt"
   ]
  },
  {
   "cell_type": "code",
   "execution_count": 40,
   "metadata": {},
   "outputs": [],
   "source": [
    "file = \"5kkk.pdb\"\n",
    "\n",
    "def parsePDB(filename, hetero = False):\n",
    "    '''\n",
    "    in: name of file and boolean for normal or hetero atom. Default is False, returns normal atoms.\n",
    "    out: file containing atoms in pdb format.\n",
    "    \n",
    "    '''\n",
    "    with open(filename, 'r') as f:\n",
    "        lines = f.readlines()\n",
    "        \n",
    "        if hetero == False:\n",
    "            atom_file = open(\"atomfile.txt\", \"w+\")\n",
    "            for line in lines:\n",
    "                if re.search(\"^ATOM\", line):\n",
    "                    if re.search(\"CA\", line):\n",
    "                        atom_file.write(line)\n",
    "        if hetero == True:\n",
    "            hetero_file = open(\"heterofile.txt\", \"w+\")\n",
    "            for line in lines:\n",
    "                if re.search(\"^HETATM\", line):\n",
    "                        hetero_file.write(line)\n",
    "\n",
    "parsePDB(file)"
   ]
  },
  {
   "cell_type": "code",
   "execution_count": 41,
   "metadata": {},
   "outputs": [],
   "source": [
    "def get_coords(filename):\n",
    "    '''\n",
    "    in: PDB file with only CA atoms\n",
    "    out: matrix with coordinates of atoms\n",
    "    '''\n",
    "    \n",
    "    coordinate_list = []\n",
    "    with open(filename,'r') as infile:\n",
    "        for line in infile:\n",
    "            parsed_line = [float(line[30:38]), float(line[38:46]), float(line[46:54])]\n",
    "            coordinate_list.append(parsed_line)\n",
    "    \n",
    "    coordinates = np.array(coordinate_list)\n",
    "    return coordinates"
   ]
  },
  {
   "cell_type": "code",
   "execution_count": 43,
   "metadata": {},
   "outputs": [],
   "source": [
    "atom_file = \"atomfile.txt\"\n",
    "residue_list = []\n",
    "\n",
    "def list_residues(filename):\n",
    "    with open(filename,'r') as infile:\n",
    "        for line in infile:\n",
    "            parsed_line = line[17:20]\n",
    "            residue_list.append(parsed_line)\n",
    "    \n",
    "    return(residue_list)"
   ]
  }
 ],
 "metadata": {
  "kernelspec": {
   "display_name": "Python 3",
   "language": "python",
   "name": "python3"
  },
  "language_info": {
   "codemirror_mode": {
    "name": "ipython",
    "version": 3
   },
   "file_extension": ".py",
   "mimetype": "text/x-python",
   "name": "python",
   "nbconvert_exporter": "python",
   "pygments_lexer": "ipython3",
   "version": "3.6.3"
  }
 },
 "nbformat": 4,
 "nbformat_minor": 2
}
