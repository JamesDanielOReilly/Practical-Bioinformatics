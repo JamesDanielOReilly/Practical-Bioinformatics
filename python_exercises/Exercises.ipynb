{
 "cells": [
  {
   "cell_type": "markdown",
   "metadata": {},
   "source": [
    "Make a program that generates a list of all codons and stores them in a dictionary.\n"
   ]
  },
  {
   "cell_type": "code",
   "execution_count": 79,
   "metadata": {},
   "outputs": [
    {
     "name": "stdout",
     "output_type": "stream",
     "text": [
      "('A', 'A', 'A')\n",
      "('A', 'A', 'T')\n",
      "('A', 'A', 'G')\n",
      "('A', 'A', 'C')\n",
      "('A', 'T', 'A')\n",
      "('A', 'T', 'T')\n",
      "('A', 'T', 'G')\n",
      "('A', 'T', 'C')\n",
      "('A', 'G', 'A')\n",
      "('A', 'G', 'T')\n",
      "('A', 'G', 'G')\n",
      "('A', 'G', 'C')\n",
      "('A', 'C', 'A')\n",
      "('A', 'C', 'T')\n",
      "('A', 'C', 'G')\n",
      "('A', 'C', 'C')\n",
      "('T', 'A', 'A')\n",
      "('T', 'A', 'T')\n",
      "('T', 'A', 'G')\n",
      "('T', 'A', 'C')\n",
      "('T', 'T', 'A')\n",
      "('T', 'T', 'T')\n",
      "('T', 'T', 'G')\n",
      "('T', 'T', 'C')\n",
      "('T', 'G', 'A')\n",
      "('T', 'G', 'T')\n",
      "('T', 'G', 'G')\n",
      "('T', 'G', 'C')\n",
      "('T', 'C', 'A')\n",
      "('T', 'C', 'T')\n",
      "('T', 'C', 'G')\n",
      "('T', 'C', 'C')\n",
      "('G', 'A', 'A')\n",
      "('G', 'A', 'T')\n",
      "('G', 'A', 'G')\n",
      "('G', 'A', 'C')\n",
      "('G', 'T', 'A')\n",
      "('G', 'T', 'T')\n",
      "('G', 'T', 'G')\n",
      "('G', 'T', 'C')\n",
      "('G', 'G', 'A')\n",
      "('G', 'G', 'T')\n",
      "('G', 'G', 'G')\n",
      "('G', 'G', 'C')\n",
      "('G', 'C', 'A')\n",
      "('G', 'C', 'T')\n",
      "('G', 'C', 'G')\n",
      "('G', 'C', 'C')\n",
      "('C', 'A', 'A')\n",
      "('C', 'A', 'T')\n",
      "('C', 'A', 'G')\n",
      "('C', 'A', 'C')\n",
      "('C', 'T', 'A')\n",
      "('C', 'T', 'T')\n",
      "('C', 'T', 'G')\n",
      "('C', 'T', 'C')\n",
      "('C', 'G', 'A')\n",
      "('C', 'G', 'T')\n",
      "('C', 'G', 'G')\n",
      "('C', 'G', 'C')\n",
      "('C', 'C', 'A')\n",
      "('C', 'C', 'T')\n",
      "('C', 'C', 'G')\n",
      "('C', 'C', 'C')\n",
      "<itertools.product object at 0x7f800510f288>\n"
     ]
    }
   ],
   "source": [
    "from itertools import product\n",
    "import numpy as np\n",
    "\n",
    "def convertTuple(tup): \n",
    "    str =  ''.join(tup) \n",
    "    return str\n",
    "\n",
    "def generateCodons():\n",
    "    codons = []\n",
    "    perms = product(\"ATGC\", repeat = 3)\n",
    "    for i in perms:\n",
    "        print(i)\n",
    "        codons.append(convertTuple(i))\n",
    "\n",
    "    return(codons)\n",
    "\n",
    "\n",
    "generateCodons()\n",
    "print(codons)\n",
    "\n",
    "# codonDict = {}\n",
    "# for i in codons:\n",
    "#     codonDict[i]= 0\n",
    "\n",
    "# print(codonDict)"
   ]
  },
  {
   "cell_type": "markdown",
   "metadata": {},
   "source": [
    "Extend the program to count the codon frequencies as you go\n",
    "over the following coding sequence:\n",
    "atgagtgaacgtctgagcattaccccgctggggccgtatatcggcgcacaataa"
   ]
  },
  {
   "cell_type": "code",
   "execution_count": null,
   "metadata": {},
   "outputs": [],
   "source": []
  }
 ],
 "metadata": {
  "kernelspec": {
   "display_name": "Python 3",
   "language": "python",
   "name": "python3"
  },
  "language_info": {
   "codemirror_mode": {
    "name": "ipython",
    "version": 3
   },
   "file_extension": ".py",
   "mimetype": "text/x-python",
   "name": "python",
   "nbconvert_exporter": "python",
   "pygments_lexer": "ipython3",
   "version": "3.6.3"
  }
 },
 "nbformat": 4,
 "nbformat_minor": 2
}
