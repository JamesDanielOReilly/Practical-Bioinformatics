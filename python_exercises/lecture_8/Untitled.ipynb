{
 "cells": [
  {
   "cell_type": "markdown",
   "metadata": {},
   "source": [
    "This notebook file is for the problems given in lecture 8 of my practical bioinformatics course. It focuses mostly on basic Python. I have done this all before but it's useful revision nonetheless."
   ]
  },
  {
   "cell_type": "code",
   "execution_count": 141,
   "metadata": {},
   "outputs": [
    {
     "name": "stdout",
     "output_type": "stream",
     "text": [
      "Enter a DNA sequence:GCAT\n",
      "50.0\n"
     ]
    }
   ],
   "source": [
    "def gc_counter(seq):\n",
    "    c = seq.count(\"c\")\n",
    "    g = seq.count(\"g\")\n",
    "    seq_length = len(seq)\n",
    "    gc_percent = 100*float(c+g)/seq_length\n",
    "    return gc_percent\n",
    "\n",
    "seq = input(\"Enter a DNA sequence:\")\n",
    "seq = seq.lower()\n",
    "print(gc_counter(seq))"
   ]
  },
  {
   "cell_type": "code",
   "execution_count": 23,
   "metadata": {},
   "outputs": [
    {
     "name": "stdout",
     "output_type": "stream",
     "text": [
      "J-mes\n",
      "5\n",
      "J-MES\n",
      "True\n",
      "1\n",
      "['J-mes']\n",
      "TARS TARS TARS TARS\n"
     ]
    }
   ],
   "source": [
    "from string import *\n",
    "\n",
    "string = \"James\"\n",
    "string = string[:1] + '-' + string[2:]\n",
    "print(string)\n",
    "\n",
    "print(len(string))\n",
    "print(string.upper())\n",
    "print(string.endswith('s'))\n",
    "print(string.count('J'))\n",
    "print(string.split())\n",
    "\n",
    "string1 = \"tars tars tars tars\"\n",
    "print(string1.replace('tars', 'TARS'))"
   ]
  },
  {
   "cell_type": "markdown",
   "metadata": {},
   "source": [
    "## Exercise 1\n",
    "- make a first script that gives the relative frequencies of the bases in a DNA sequence.\n",
    "- Then calculate the melting temperature if this sequence were a primer\n",
    "- C and G are strong binders, A and T weak\n",
    "- a simple approximate formula is: \n",
    "\\begin{equation}\n",
    "Tm = 4 \\cdot Nstrong + 2 \\cdot Nweak\n",
    "\\end{equation}"
   ]
  },
  {
   "cell_type": "code",
   "execution_count": 143,
   "metadata": {},
   "outputs": [
    {
     "name": "stdout",
     "output_type": "stream",
     "text": [
      "gcatcgatcgatca\n",
      "G = 21.428571428571427, C = 28.571428571428573, A = 28.571428571428573, T = 21.428571428571427\n",
      "Melting Temperature = 37.37142857142858\n"
     ]
    }
   ],
   "source": [
    "def base_freq(seq):\n",
    "    g = seq.count('G')\n",
    "    c = seq.count('C')\n",
    "    a = seq.count('A')\n",
    "    t = seq.count('T')\n",
    "    \n",
    "    seq_length = len(seq)\n",
    "    \n",
    "    gc_content = 100*(g+c)/seq_length\n",
    "    at_content = 100*(a+t)/seq_length\n",
    "    \n",
    "    g_content = 100*(g)/seq_length\n",
    "    c_content = 100*(c)/seq_length\n",
    "    a_content = 100*(a)/seq_length\n",
    "    t_content = 100*(t)/seq_length\n",
    "    \n",
    "    if (seq_length < 14):\n",
    "        t_melt = 4*(g+c) + 2*(a+t)\n",
    "    else:\n",
    "        t_melt = 64.9 + 41*(g+c - 16.4)/seq_length\n",
    "    \n",
    "    print(\"G = {}, C = {}, A = {}, T = {}\".format(g_content, c_content, a_content, t_content))\n",
    "    print(\"Melting Temperature = {}\".format(t_melt))\n",
    "\n",
    "seq = input()\n",
    "seq = seq.upper()\n",
    "base_freq(seq)"
   ]
  },
  {
   "cell_type": "markdown",
   "metadata": {},
   "source": [
    "## Exercise 2\n",
    "Make a program that generates a list of all codons and saves\n",
    "them in a dictionary\n",
    "- Extend the program to count the codon frequencies as you go over the following coding sequence:\n",
    "<center>\n",
    "atgagtgaacgtctgagcattaccccgctggggccgtatatcggcgcacaataa\n",
    "<center>"
   ]
  },
  {
   "cell_type": "code",
   "execution_count": 144,
   "metadata": {
    "scrolled": true
   },
   "outputs": [
    {
     "name": "stdout",
     "output_type": "stream",
     "text": [
      "{'aaa': 0, 'aac': 0, 'aat': 0, 'aag': 0, 'aca': 0, 'acc': 1, 'act': 0, 'acg': 0, 'ata': 0, 'atc': 1, 'att': 1, 'atg': 1, 'aga': 0, 'agc': 1, 'agt': 1, 'agg': 0, 'caa': 1, 'cac': 0, 'cat': 0, 'cag': 0, 'cca': 0, 'ccc': 0, 'cct': 0, 'ccg': 2, 'cta': 0, 'ctc': 0, 'ctt': 0, 'ctg': 2, 'cga': 0, 'cgc': 0, 'cgt': 1, 'cgg': 0, 'taa': 1, 'tac': 0, 'tat': 1, 'tag': 0, 'tca': 0, 'tcc': 0, 'tct': 0, 'tcg': 0, 'tta': 0, 'ttc': 0, 'ttt': 0, 'ttg': 0, 'tga': 0, 'tgc': 0, 'tgt': 0, 'tgg': 0, 'gaa': 1, 'gac': 0, 'gat': 0, 'gag': 0, 'gca': 1, 'gcc': 0, 'gct': 0, 'gcg': 0, 'gta': 0, 'gtc': 0, 'gtt': 0, 'gtg': 0, 'gga': 0, 'ggc': 1, 'ggt': 0, 'ggg': 1}\n"
     ]
    }
   ],
   "source": [
    "seq = \"atgagtgaacgtctgagcattaccccgctggggccgtatatcggcgcacaataa\"\n",
    "\n",
    "codonDict={}\n",
    "bases=list(\"actg\")\n",
    "for first in bases:\n",
    "    for second in bases: \n",
    "        for third in bases:\n",
    "            codonDict[first+second+third]=0\n",
    "            \n",
    "for i in range(0,int(len(seq)/3)):\n",
    "    codonDict[seq[i*3:i*3+3]]+=1\n",
    "            \n",
    "print(codonDict)"
   ]
  },
  {
   "cell_type": "markdown",
   "metadata": {},
   "source": [
    "## Exercise 3\n",
    "Generate the following lists with clever use of built-in\n",
    "functions:\n",
    "- [1, 3, 5, 7, 9]\n",
    "- [1, 2, 6, 7, 8, 9]\n",
    "- [10, 9, 8, 7, 6, 5, 4, 3, 2, 1]\n",
    "- [1, 2, 3, 4, 5, 4, 3, 2, 1]"
   ]
  },
  {
   "cell_type": "code",
   "execution_count": 145,
   "metadata": {},
   "outputs": [
    {
     "name": "stdout",
     "output_type": "stream",
     "text": [
      "[1, 3, 5, 7, 9]\n",
      "[1, 2, 6, 7, 8, 9]\n",
      "[10, 9, 8, 7, 6, 5, 4, 3, 2, 1]\n",
      "[1, 2, 3, 4, 5, 4, 3, 2, 1]\n"
     ]
    }
   ],
   "source": [
    "odds = [i for i in range(1, 10) if i%2==1]\n",
    "print(odds)\n",
    "dunno = [i for i in range(1, 10) if i not in [3,4,5]]\n",
    "print(dunno)\n",
    "reverse = [i for i in range(10, 0, -1)]\n",
    "print(reverse)\n",
    "pyramid_up = [i for i in range(1, 6)]\n",
    "pyramid_down = [i for i in range(4, 0, -1)]\n",
    "pyramid = pyramid_up + pyramid_down\n",
    "print(pyramid)\n"
   ]
  },
  {
   "cell_type": "markdown",
   "metadata": {},
   "source": [
    "Use a dictionary and ”list comprehension” to a DNA sequence\n",
    "to its complement"
   ]
  },
  {
   "cell_type": "code",
   "execution_count": 146,
   "metadata": {},
   "outputs": [],
   "source": [
    "sequence = 'ATGCCTACGAA'\n",
    "DNA_dict = {'A':'T', 'G':'C', 'C':'G', 'T':'A'}\n",
    "\n",
    "def compliment(sequence):\n",
    "    compliment = ''.join([DNA_dict[i] for i in sequence])\n",
    "    return compliment"
   ]
  },
  {
   "cell_type": "markdown",
   "metadata": {},
   "source": [
    "Write a function to generate N fibonacci numbers."
   ]
  },
  {
   "cell_type": "code",
   "execution_count": 147,
   "metadata": {},
   "outputs": [
    {
     "data": {
      "text/plain": [
       "55"
      ]
     },
     "execution_count": 147,
     "metadata": {},
     "output_type": "execute_result"
    }
   ],
   "source": [
    "def fib(n):\n",
    "    if n==0:\n",
    "        return 0\n",
    "    elif n==1:\n",
    "        return 1\n",
    "    else:\n",
    "        return fib(n-1) + fib(n-2)\n",
    "\n",
    "fib(10)"
   ]
  },
  {
   "cell_type": "markdown",
   "metadata": {},
   "source": [
    "- load the codon table into a dictionary\n",
    "- load and parse the coding sequence fasta file\n",
    "- translate the coding sequence\n",
    "- writes the translated sequence to a file in the fasta format"
   ]
  },
  {
   "cell_type": "code",
   "execution_count": 148,
   "metadata": {},
   "outputs": [],
   "source": [
    "file = open(\"codonCodingTable.txt\")\n",
    "aa_dict = {}\n",
    "for line in file:\n",
    "    aa_dict[line.split()[0]] = line.split()[1]  \n",
    "file.close()\n",
    "\n",
    "file = open(\"sequence.fasta\")\n",
    "next(file)\n",
    "sequence = file.read().replace('\\n', '')\n",
    "sequence = sequence.lower()\n",
    "file.close()\n",
    "\n",
    "def dna_to_aa(sequence):\n",
    "    aa_sequence = \"\"\n",
    "    \n",
    "    for i in range(0,int(len(sequence)/3)):\n",
    "        aa_sequence = aa_sequence + aa_dict[sequence[i*3:i*3+3]]\n",
    "    return aa_sequence\n",
    "\n",
    "protein_sequence = dna_to_aa(sequence)"
   ]
  },
  {
   "cell_type": "code",
   "execution_count": 149,
   "metadata": {},
   "outputs": [],
   "source": [
    "def fasta_format(string):\n",
    "    newlines = list(range(79,len(string),80))\n",
    "    for i in newlines:\n",
    "        string = string[:i] + '\\n' + string[i:]\n",
    "    return string\n",
    "\n",
    "file = open(\"protein.fasta\", 'w')\n",
    "string = \">gi|5815130|gb|AF169385.1| Homo sapiens SPO11 (SPO11) Protein\\n\"\n",
    "file.write(string)\n",
    "file.write(fasta_format(protein_sequence))\n",
    "file.close()"
   ]
  },
  {
   "cell_type": "code",
   "execution_count": null,
   "metadata": {
    "collapsed": true
   },
   "outputs": [],
   "source": []
  }
 ],
 "metadata": {
  "kernelspec": {
   "display_name": "Python 3",
   "language": "python",
   "name": "python3"
  },
  "language_info": {
   "codemirror_mode": {
    "name": "ipython",
    "version": 3
   },
   "file_extension": ".py",
   "mimetype": "text/x-python",
   "name": "python",
   "nbconvert_exporter": "python",
   "pygments_lexer": "ipython3",
   "version": "3.6.3"
  }
 },
 "nbformat": 4,
 "nbformat_minor": 2
}
