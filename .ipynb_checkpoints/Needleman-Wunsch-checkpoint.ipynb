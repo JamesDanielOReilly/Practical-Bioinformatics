{
 "cells": [
  {
   "cell_type": "markdown",
   "metadata": {},
   "source": [
    "The Needleman-Wunsch algorithm is an algorithm used in bioinformatics to align protein or nucleotide sequences. \n",
    "\n",
    "The algorithm uses dynamic programming. The algorithm effectively divides a large problem (e.g. the full sequence) into a series of smaller problems, and uses the solutions to these smaller problems to find an optimal solution to the larger problem.\n",
    "\n",
    "This algorithm is still widely used for optimal global alignment, particularly when the quality of the alignment is of utmost importance. The algorithm assigns a score to every possible alignment, and the purpose of the algorithm is to find all possible alignments having the highest score."
   ]
  },
  {
   "cell_type": "markdown",
   "metadata": {},
   "source": [
    "The algorithm can be used for any two strings. The first step is to construct a grid. The first sequence along the top and the second sequence down the side."
   ]
  },
  {
   "cell_type": "code",
   "execution_count": 4,
   "metadata": {
    "collapsed": true
   },
   "outputs": [],
   "source": [
    "import numpy as np"
   ]
  },
  {
   "cell_type": "code",
   "execution_count": 5,
   "metadata": {
    "collapsed": true
   },
   "outputs": [],
   "source": [
    "def diagonal(n1, n2, pt):\n",
    "    if (n1 == n2):\n",
    "        return pt['MATCH']\n",
    "    else:\n",
    "        return pt['MISMATCH']"
   ]
  },
  {
   "cell_type": "code",
   "execution_count": 6,
   "metadata": {
    "collapsed": true
   },
   "outputs": [],
   "source": [
    "def pointers(di, ho, ve):\n",
    "    pointer = max(di, ho, ve)\n",
    "    \n",
    "    if (di == pointer):\n",
    "        return 'D'\n",
    "    elif(ho == pointer):\n",
    "        return 'H'\n",
    "    elif (ve == pointer):\n",
    "        return 'V'"
   ]
  },
  {
   "cell_type": "code",
   "execution_count": 7,
   "metadata": {
    "collapsed": true
   },
   "outputs": [],
   "source": [
    "def nw_simple(s1, s2, match, mismatch, gap) :\n",
    "    penalty = {'MATCH': match, 'MISMATCH': mismatch, 'GAP': gap} # Dictionary for penalty values\n",
    "    \n",
    "    n = len(s1) + 1\n",
    "    m = len(s2) + 1\n",
    "    \n",
    "    f_matrix = np.zeros((m,n), dtype = int) # Initialises an empty alignment matrix\n",
    "    p_matrix = np.zeros((m,n), dtype = str) # Initialises an empty pointer matrix for backtracking\n",
    "    \n",
    "    # Fill first row and column of matrix with gap penalty\n",
    "    for i in range(m):\n",
    "        f_matrix[i][0] = penalty['GAP'] * i\n",
    "        p_matrix[i][0] = 'V'\n",
    "        \n",
    "    for j in range(n):\n",
    "        f_matrix[0][j] = penalty['GAP'] * j\n",
    "        p_matrix[0][j] = 'H'\n",
    "        \n",
    "    # Fill the matrix\n",
    "    p_matrix[0][0] = 0\n",
    "    for i in range(1,m):\n",
    "        for j in range(1,n):\n",
    "            di = f_matrix[i-1][j-1] + diagonal(s1[j-1], s2[i-1], penalty)\n",
    "            ho = f_matrix[i-1][j] + penalty['GAP']\n",
    "            ve = f_matrix[i][j-1] + penalty['GAP']\n",
    "            f_matrix[i][j] = max(di, ho, ve)\n",
    "            p_matrix[i][j] = pointers(di, ho, ve)\n",
    "    \n",
    "    score = f_matrix[-1][-1]\n",
    "    \n",
    "    print(\"Alignment Score: {0}\".format(score))\n",
    "    print(\"\\n\" + \"Alignment Matrix:\")\n",
    "    print(f_matrix)\n",
    "    print(\"\\n\" + \"Pointer Matrix:\")\n",
    "    print(p_matrix)"
   ]
  },
  {
   "cell_type": "code",
   "execution_count": 8,
   "metadata": {},
   "outputs": [
    {
     "name": "stdout",
     "output_type": "stream",
     "text": [
      "Alignment Score: 2\n",
      "\n",
      "Alignment Matrix:\n",
      "[[  0  -2  -4  -6  -8 -10]\n",
      " [ -2   1  -1  -3  -5  -7]\n",
      " [ -4  -1   0   0  -2  -4]\n",
      " [ -6  -3  -2   1   1  -1]\n",
      " [ -8  -5  -4  -1   0   2]]\n",
      "\n",
      "Pointer Matrix:\n",
      "[['0' 'H' 'H' 'H' 'H' 'H']\n",
      " ['V' 'D' 'V' 'V' 'V' 'V']\n",
      " ['V' 'H' 'D' 'D' 'D' 'V']\n",
      " ['V' 'H' 'D' 'D' 'D' 'V']\n",
      " ['V' 'H' 'D' 'H' 'D' 'D']]\n"
     ]
    }
   ],
   "source": [
    "sequence1 = 'TGCCA'\n",
    "sequence2 = 'TCCA'\n",
    "\n",
    "nw_simple(sequence1, sequence2, 1, -1, -2)"
   ]
  },
  {
   "cell_type": "markdown",
   "metadata": {},
   "source": [
    "Running Needleman-Wunsch using a similarity matrix for comparing sequences of amino acids. I will be using the BLOSUM62 similarity matrix. I must first read the similarity matrix from a text file and then insert the substitution values into a 20x20 2d array (for the 20 amino acids) so that they can be accessed."
   ]
  },
  {
   "cell_type": "code",
   "execution_count": 30,
   "metadata": {},
   "outputs": [],
   "source": [
    "amino_array = ['A','R','N','D','C','Q','E','G','H','I','L','K','M','F','P','S','T','W','Y','V','B','Z','X']\n",
    "\n",
    "f = open('BLOSUM.txt', 'r')\n",
    "g = f.read().splitlines()\n",
    "\n",
    "for i in range(22):\n",
    "    g[i] = [int(j) for j in g[i].split()]\n",
    "\n",
    "BLOSUM62 = g\n",
    "f.close()"
   ]
  },
  {
   "cell_type": "code",
   "execution_count": 39,
   "metadata": {
    "collapsed": true
   },
   "outputs": [],
   "source": [
    "def diagonal(n1, n2, substitution):\n",
    "    A1 = amino_array.index(n1)\n",
    "    A2 = amino_array.index(n2)\n",
    "    return substitution[A1][A2]"
   ]
  },
  {
   "cell_type": "code",
   "execution_count": 40,
   "metadata": {
    "collapsed": true
   },
   "outputs": [],
   "source": [
    "def pointers(di, ho, ve):\n",
    "    pointer = max(di, ho, ve)\n",
    "    \n",
    "    if (di == pointer):\n",
    "        return 'D'\n",
    "    elif(ho == pointer):\n",
    "        return 'H'\n",
    "    elif (ve == pointer):\n",
    "        return 'V'"
   ]
  },
  {
   "cell_type": "code",
   "execution_count": 41,
   "metadata": {
    "collapsed": true
   },
   "outputs": [],
   "source": [
    "def nw_blosum62(s1, s2, gap, substitution) :\n",
    "    gap_penalty = gap # Penalty value\n",
    "    \n",
    "    n = len(s1) + 1\n",
    "    m = len(s2) + 1\n",
    "    \n",
    "    f_matrix = np.zeros((m,n), dtype = int) # Initialises an empty alignment matrix\n",
    "    p_matrix = np.zeros((m,n), dtype = str) # Initialises an empty pointer matrix for backtracking\n",
    "    \n",
    "    # Fill first row and column of matrix with gap penalty\n",
    "    for i in range(m):\n",
    "        f_matrix[i][0] = gap_penalty * i\n",
    "        p_matrix[i][0] = 'V'\n",
    "        \n",
    "    for j in range(n):\n",
    "        f_matrix[0][j] = gap_penalty * j\n",
    "        p_matrix[0][j] = 'H'\n",
    "        \n",
    "    # Fill the matrix\n",
    "    p_matrix[0][0] = 0\n",
    "    for i in range(1,m):\n",
    "        for j in range(1,n):\n",
    "            di = f_matrix[i-1][j-1] + diagonal(s1[j-1], s2[i-1], substitution)\n",
    "            ho = f_matrix[i-1][j] + gap_penalty\n",
    "            ve = f_matrix[i][j-1] + gap_penalty\n",
    "            f_matrix[i][j] = max(di, ho, ve)\n",
    "            p_matrix[i][j] = pointers(di, ho, ve)\n",
    "    \n",
    "    score = f_matrix[-1][-1]\n",
    "    \n",
    "    print(\"Alignment Score: {0}\".format(score))\n",
    "    print(\"\\n\" + \"Alignment Matrix:\")\n",
    "    print(f_matrix)\n",
    "    print(\"\\n\" + \"Pointer Matrix:\")\n",
    "    print(p_matrix)"
   ]
  },
  {
   "cell_type": "code",
   "execution_count": 43,
   "metadata": {},
   "outputs": [
    {
     "name": "stdout",
     "output_type": "stream",
     "text": [
      "Alignment Score: 48\n",
      "\n",
      "Alignment Matrix:\n",
      "[[  0  -4  -8 -12 -16 -20 -24 -28 -32 -36 -40 -44 -48 -52 -56 -60 -64 -68\n",
      "  -72]\n",
      " [ -4  -2  -5  -9 -13 -12 -16 -20 -24 -28 -32 -36 -40 -44 -48 -52 -56 -60\n",
      "  -64]\n",
      " [ -8  -5   3  -1  -5  -9 -12 -16 -20 -24 -28 -32 -36 -40 -39 -43 -47 -51\n",
      "  -55]\n",
      " [-12  -8  -1   9   5   1  -3  -7 -11 -15 -19 -22 -26 -30 -34 -38 -42 -46\n",
      "  -50]\n",
      " [-16 -12  -5   5   6   5   1  -3  -7 -11 -15 -19 -22 -26 -29 -33 -37 -41\n",
      "  -45]\n",
      " [-20 -16  -9   1   2   7   5   1  -3  -7 -11 -15 -19 -21 -25 -29 -33 -36\n",
      "  -40]\n",
      " [-24 -20 -13  -3  -2   3  15  11   7   3  -1  -5  -7 -11 -15 -19 -23 -27\n",
      "  -31]\n",
      " [-28 -24 -17  -7  -4  -1  11  20  16  12   8   4   0  -4  -8 -12 -16 -20\n",
      "  -24]\n",
      " [-32 -28 -21 -11  -8  -5   7  16  17  27  23  19  15  11   7   3  -1  -5\n",
      "   -9]\n",
      " [-36 -32 -25 -15 -12  -9   3  12  14  23  34  30  26  22  18  14  10   6\n",
      "    2]\n",
      " [-40 -36 -29 -19 -16 -13  -1   8  10  19  30  31  32  28  24  20  17  13\n",
      "    9]\n",
      " [-44 -40 -33 -23 -20 -17  -5   4   8  15  26  36  32  31  27  23  19  15\n",
      "   11]\n",
      " [-48 -44 -37 -27 -24 -20  -9   0   4  11  22  32  44  40  36  32  28  24\n",
      "   20]\n",
      " [-52 -48 -41 -31 -28 -20 -13  -4   0   7  18  28  40  50  46  42  38  34\n",
      "   30]\n",
      " [-56 -52 -43 -35 -32 -24 -17  -8  -4   3  14  24  36  46  55  51  47  43\n",
      "   39]\n",
      " [-60 -56 -47 -39 -36 -28 -21 -12  -8  -1  10  20  32  42  51  53  51  47\n",
      "   45]\n",
      " [-64 -60 -51 -43 -40 -32 -25 -16 -12  -5   6  16  28  38  47  49  53  49\n",
      "   49]\n",
      " [-68 -64 -55 -47 -44 -36 -24 -20 -16  -9   2  12  24  34  43  45  49  52\n",
      "   48]\n",
      " [-72 -68 -59 -51 -48 -40 -28 -24 -20 -13  -2   8  20  30  39  41  45  49\n",
      "   48]]\n",
      "\n",
      "Pointer Matrix:\n",
      "[['0' 'H' 'H' 'H' 'H' 'H' 'H' 'H' 'H' 'H' 'H' 'H' 'H' 'H' 'H' 'H' 'H' 'H'\n",
      "  'H']\n",
      " ['V' 'D' 'D' 'D' 'V' 'D' 'V' 'V' 'V' 'V' 'V' 'V' 'V' 'D' 'V' 'V' 'V' 'V'\n",
      "  'V']\n",
      " ['V' 'D' 'D' 'V' 'V' 'V' 'D' 'V' 'V' 'V' 'V' 'V' 'D' 'V' 'D' 'V' 'V' 'V'\n",
      "  'V']\n",
      " ['V' 'D' 'H' 'D' 'V' 'V' 'V' 'V' 'V' 'V' 'V' 'D' 'V' 'V' 'V' 'V' 'V' 'V'\n",
      "  'V']\n",
      " ['V' 'H' 'H' 'H' 'D' 'D' 'D' 'V' 'D' 'V' 'V' 'V' 'D' 'D' 'D' 'V' 'V' 'D'\n",
      "  'V']\n",
      " ['V' 'H' 'H' 'H' 'D' 'D' 'D' 'V' 'D' 'V' 'V' 'V' 'D' 'D' 'V' 'V' 'V' 'D'\n",
      "  'V']\n",
      " ['V' 'H' 'H' 'H' 'D' 'H' 'D' 'V' 'V' 'V' 'V' 'V' 'D' 'V' 'V' 'V' 'V' 'V'\n",
      "  'V']\n",
      " ['V' 'D' 'H' 'H' 'D' 'H' 'H' 'D' 'V' 'V' 'V' 'V' 'V' 'V' 'V' 'V' 'V' 'V'\n",
      "  'V']\n",
      " ['V' 'H' 'H' 'H' 'H' 'H' 'H' 'H' 'D' 'D' 'V' 'V' 'V' 'V' 'V' 'V' 'V' 'V'\n",
      "  'V']\n",
      " ['V' 'H' 'H' 'H' 'H' 'H' 'H' 'H' 'D' 'H' 'D' 'V' 'V' 'V' 'V' 'V' 'V' 'V'\n",
      "  'V']\n",
      " ['V' 'H' 'H' 'H' 'H' 'H' 'H' 'H' 'D' 'H' 'D' 'D' 'D' 'V' 'V' 'V' 'D' 'V'\n",
      "  'V']\n",
      " ['V' 'D' 'H' 'D' 'H' 'D' 'H' 'H' 'D' 'H' 'H' 'D' 'V' 'D' 'V' 'V' 'V' 'D'\n",
      "  'V']\n",
      " ['V' 'H' 'H' 'H' 'H' 'D' 'D' 'H' 'H' 'H' 'H' 'H' 'D' 'V' 'V' 'V' 'V' 'V'\n",
      "  'V']\n",
      " ['V' 'H' 'H' 'H' 'H' 'D' 'H' 'H' 'D' 'H' 'H' 'H' 'H' 'D' 'V' 'V' 'V' 'V'\n",
      "  'V']\n",
      " ['V' 'H' 'D' 'H' 'H' 'H' 'H' 'H' 'H' 'H' 'H' 'H' 'H' 'H' 'D' 'V' 'V' 'V'\n",
      "  'V']\n",
      " ['V' 'H' 'H' 'H' 'D' 'H' 'H' 'H' 'H' 'H' 'H' 'H' 'H' 'H' 'H' 'D' 'D' 'V'\n",
      "  'D']\n",
      " ['V' 'H' 'H' 'H' 'D' 'H' 'H' 'H' 'H' 'H' 'H' 'H' 'H' 'H' 'H' 'H' 'D' 'V'\n",
      "  'D']\n",
      " ['V' 'H' 'H' 'H' 'H' 'H' 'D' 'H' 'H' 'H' 'H' 'H' 'D' 'H' 'H' 'D' 'H' 'D'\n",
      "  'V']\n",
      " ['V' 'H' 'H' 'H' 'H' 'D' 'H' 'H' 'D' 'H' 'H' 'H' 'H' 'H' 'H' 'D' 'H' 'D'\n",
      "  'D']]\n"
     ]
    }
   ],
   "source": [
    "sequence1 = 'ARGCBHTSWYGHDRPFKL'\n",
    "sequence2 = 'BRGQZHTWYYGHDRMIHB'\n",
    "\n",
    "nw_blosum62(sequence1, sequence2, -4, BLOSUM62)"
   ]
  },
  {
   "cell_type": "markdown",
   "metadata": {},
   "source": [
    "So now that we have a basic Needleman-Wunsch alignment algorithm with a substitution matrix, we can look at improving the efficiency of the algorithm by pruning pathways that cannot possibly yield an optimal alignment.\n",
    "\n",
    "Taking the maximum possible substition or gap values, we can determine whether or not it is necessary to compute certain values in the alignment matrix, considering their position within the matrix and the current value of other positions in the matrix."
   ]
  }
 ],
 "metadata": {
  "kernelspec": {
   "display_name": "Python 3",
   "language": "python",
   "name": "python3"
  },
  "language_info": {
   "codemirror_mode": {
    "name": "ipython",
    "version": 3
   },
   "file_extension": ".py",
   "mimetype": "text/x-python",
   "name": "python",
   "nbconvert_exporter": "python",
   "pygments_lexer": "ipython3",
   "version": "3.6.3"
  }
 },
 "nbformat": 4,
 "nbformat_minor": 2
}
